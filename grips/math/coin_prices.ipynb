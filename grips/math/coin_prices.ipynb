{
 "cells": [
  {
   "cell_type": "markdown",
   "metadata": {},
   "source": [
    "#  [問題1] \n",
    "\n",
    "- 業務や身の回りの適当な問題を線形計画問題や整数計画問題(一部の変数のみに整数条件がつく問題でもよい), 2次計画問題やネットワーク最適化問題に定式化してみよ．\n",
    "- もし，可能であれば，解いてみよ"
   ]
  },
  {
   "cell_type": "markdown",
   "metadata": {},
   "source": [
    "## データ収集\n",
    "- 日経225、S&P500、BTCに関する過去５年分の終値データ（1,223件）をYahoo! Financeから取得し、ドル/円の為替レートを用いて日本円に換算する。"
   ]
  },
  {
   "cell_type": "code",
   "execution_count": null,
   "metadata": {},
   "outputs": [
    {
     "name": "stdout",
     "output_type": "stream",
     "text": [
      "                   ^N225      ^GSPC/JPY       BTC/JPY\n",
      "2020-01-31  23205.179688            NaN           NaN\n",
      "2020-02-03  22971.939453  352091.955127  1.007158e+06\n",
      "2020-02-04  23084.589844  358157.853016  9.971627e+05\n",
      "2020-02-05  23319.560547  364971.805336  1.052160e+06\n",
      "2020-02-06  23873.589844  367413.498144  1.068468e+06\n",
      "                   ^N225      ^GSPC/JPY       BTC/JPY\n",
      "2025-01-27  39565.800781  936376.522675  1.589955e+07\n",
      "2025-01-28  39016.871094  939941.348816  1.569731e+07\n",
      "2025-01-29  39414.781250  939469.068054  1.613197e+07\n",
      "2025-01-30  39513.968750  942063.425661  1.625178e+07\n",
      "2025-01-31  39572.488281  930827.519041  1.578031e+07\n",
      "1223\n"
     ]
    }
   ],
   "source": [
    "import yfinance as yf\n",
    "import pandas as pd\n",
    "import numpy as np\n",
    "from scipy.optimize import minimize\n",
    "\n",
    "# Yahoo Financeからデータを取得\n",
    "symbols = [\"^N225\", \"^GSPC\", \"BTC-USD\"]\n",
    "period = \"5y\"  # 5年分\n",
    "\n",
    "# 各ティッカーのデータを取得\n",
    "df_close = pd.DataFrame()\n",
    "for symbol in symbols:\n",
    "    ticker = yf.Ticker(symbol)\n",
    "    data = ticker.history(period=period)  \n",
    "    data.index = data.index.date\n",
    "    df_close[symbol] = data[\"Close\"]\n",
    "\n",
    "# 欠損値を前日のデータで補完\n",
    "df_close = df_close.ffill()\n",
    "\n",
    "# 為替レート（USD/JPY）の取得\n",
    "usd_jpy_ticker = yf.Ticker(\"JPY=X\")\n",
    "usd_jpy = usd_jpy_ticker.history(period=period)[\"Close\"]\n",
    "usd_jpy.index = usd_jpy.index.tz_localize(None)\n",
    "usd_jpy = usd_jpy.reindex(df_close.index, method=\"ffill\")\n",
    "\n",
    "# USDをJPYに変換\n",
    "df_close[\"^GSPC/JPY\"] = df_close[\"^GSPC\"] * usd_jpy\n",
    "df_close[\"BTC/JPY\"] = df_close[\"BTC-USD\"] * usd_jpy\n",
    "df_close = df_close.drop(columns=[\"^GSPC\", \"BTC-USD\"])\n",
    "\n",
    "# 結果を確認\n",
    "print(df_close.head())\n",
    "print(df_close.tail())\n",
    "print(len(df_close))"
   ]
  },
  {
   "cell_type": "code",
   "execution_count": 288,
   "metadata": {},
   "outputs": [],
   "source": [
    "# csvにダンプ\n",
    "df_close.to_csv(\"df_close.csv\", encoding=\"utf-8-sig\", index=True)"
   ]
  },
  {
   "cell_type": "code",
   "execution_count": 281,
   "metadata": {},
   "outputs": [
    {
     "data": {
      "text/plain": [
       "^N225        0\n",
       "^GSPC/JPY    1\n",
       "BTC/JPY      1\n",
       "dtype: int64"
      ]
     },
     "execution_count": 281,
     "metadata": {},
     "output_type": "execute_result"
    }
   ],
   "source": [
    "# 欠損値を確認\n",
    "df_close.isnull().sum()"
   ]
  },
  {
   "cell_type": "markdown",
   "metadata": {},
   "source": [
    "## リターンとリスクの評価"
   ]
  },
  {
   "cell_type": "code",
   "execution_count": 295,
   "metadata": {},
   "outputs": [
    {
     "name": "stdout",
     "output_type": "stream",
     "text": [
      "日次リターンの平均:\n",
      " ^N225        0.000540\n",
      "^GSPC/JPY    0.000905\n",
      "BTC/JPY      0.003156\n",
      "dtype: float64 \n",
      "\n",
      "共分散行列:\n",
      "               ^N225  ^GSPC/JPY   BTC/JPY\n",
      "^N225      0.000188   0.000059  0.000069\n",
      "^GSPC/JPY  0.000059   0.000216  0.000246\n",
      "BTC/JPY    0.000069   0.000246  0.001761 \n",
      "\n",
      "各資産の標準偏差:\n",
      "\n",
      "^N225        0.013695\n",
      "^GSPC/JPY    0.014699\n",
      "BTC/JPY      0.041967\n",
      "dtype: float64\n"
     ]
    }
   ],
   "source": [
    "# 日次リターンを計算\n",
    "df_return = df_close.pct_change().dropna()\n",
    "\n",
    "# 各資産の平均リターン\n",
    "expected_returns = df_return.mean()\n",
    "\n",
    "# リターンの共分散行列\n",
    "cov_matrix = df_return.cov()\n",
    "\n",
    "# 各資産のリスク（標準偏差）を計算\n",
    "std_devs = np.sqrt(np.diag(cov_matrix))\n",
    "\n",
    "print(\"日次リターンの平均:\\n\", expected_returns, \"\\n\")\n",
    "print(\"共分散行列:\\n\", cov_matrix, \"\\n\")\n",
    "\n",
    "print(\"各資産の標準偏差:\\n\")\n",
    "print(pd.Series(std_devs, index=df_return.columns))"
   ]
  },
  {
   "cell_type": "markdown",
   "metadata": {},
   "source": [
    "## シャープレシオの最大化"
   ]
  },
  {
   "cell_type": "code",
   "execution_count": 286,
   "metadata": {},
   "outputs": [
    {
     "name": "stdout",
     "output_type": "stream",
     "text": [
      "最適なポートフォリオのウェイト: [0.32 0.4  0.28]\n",
      "各資産への投資額: [ 9731.13 12004.22  8264.65]\n"
     ]
    }
   ],
   "source": [
    "# シャープレシオを最大化する最適化関数\n",
    "def negative_sharpe_ratio(weights, expected_returns, cov_matrix):\n",
    "    portfolio_return = np.sum(weights * expected_returns)\n",
    "    portfolio_volatility = np.sqrt(np.dot(weights.T, np.dot(cov_matrix, weights)))\n",
    "    return -(portfolio_return / portfolio_volatility)\n",
    "\n",
    "# 最適化の実行\n",
    "num_assets = len(expected_returns)\n",
    "initial_guess = np.ones(num_assets) / num_assets  # 初期ウェイト（均等分割）\n",
    "bounds = [(0, 1) for _ in range(num_assets)]  # 各資産のウェイト範囲\n",
    "constraints = {'type': 'eq', 'fun': lambda weights: np.sum(weights) - 1}  # 合計ウェイトが1になる制約\n",
    "\n",
    "result = minimize(negative_sharpe_ratio, initial_guess, args=(expected_returns, cov_matrix), \n",
    "                  method='SLSQP', bounds=bounds, constraints=constraints)\n",
    "\n",
    "# 最適なウェイトを取得\n",
    "optimal_weights = result.x\n",
    "\n",
    "# 投資額（3万円）の分配\n",
    "investment = 30000\n",
    "amount_invested = optimal_weights * investment\n",
    "\n",
    "print(\"最適なポートフォリオのウェイト:\", np.round(optimal_weights, 4))\n",
    "print(\"各資産への投資額:\", np.round(amount_invested, 2))"
   ]
  },
  {
   "cell_type": "markdown",
   "metadata": {},
   "source": [
    "# ５つの暗号資産に分配する場合（参考）"
   ]
  },
  {
   "cell_type": "code",
   "execution_count": 241,
   "metadata": {},
   "outputs": [
    {
     "name": "stdout",
     "output_type": "stream",
     "text": [
      "                 BTC/JPY  ETH/JPY     LTC/JPY  XRP/JPY  ADA/JPY\n",
      "2014-09-17  49003.340394      NaN  542.023627      NaN      NaN\n",
      "2014-09-18  46058.530813      NaN  508.422389      NaN      NaN\n",
      "2014-09-19  42953.804916      NaN  470.861415      NaN      NaN\n",
      "2014-09-20  44488.755545      NaN  466.364674      NaN      NaN\n",
      "2014-09-21  43391.727584      NaN  461.956129      NaN      NaN\n",
      "                 BTC/JPY        ETH/JPY       LTC/JPY     XRP/JPY     ADA/JPY\n",
      "2025-01-29  1.613197e+07  484255.032947  17996.673974  477.300771  146.400781\n",
      "2025-01-30  1.625178e+07  503958.021199  20158.390743  485.847962  149.120536\n",
      "2025-01-31  1.578031e+07  508252.763176  19726.405244  467.749107  145.194658\n",
      "2025-02-01  1.551077e+07  480525.084701  18324.461370  444.488025  138.370473\n",
      "2025-02-02  1.530476e+07  478533.147723  17764.296108  440.018764  136.538527\n",
      "3792\n"
     ]
    }
   ],
   "source": [
    "import yfinance as yf\n",
    "import pandas as pd\n",
    "\n",
    "# 取得する暗号資産のティッカー（USD建て）\n",
    "symbols = [\"BTC-USD\", \"ETH-USD\", \"LTC-USD\", \"XRP-USD\", \"ADA-USD\"]\n",
    "period = \"max\"  # 1年分\n",
    "\n",
    "# 終値を保存するためのデータフレームを作成\n",
    "df_close = pd.DataFrame()\n",
    "\n",
    "for symbol in symbols:\n",
    "    ticker = yf.Ticker(symbol)  # 暗号資産の情報を取得\n",
    "    df_close[symbol] = ticker.history(period=period)[\"Close\"]  # 過去1年分の終値を取得し、データフレームに格納\n",
    "    \n",
    "# USD/JPYの為替レートを取得\n",
    "usd_jpy_ticker = yf.Ticker(\"JPY=X\")\n",
    "usd_jpy = usd_jpy_ticker.history(period=period)[\"Close\"]  # 過去1年分の為替レートを取得\n",
    "usd_jpy = usd_jpy.reindex(df_close.index, method=\"ffill\")  # 為替データの取得分を前日値で補完\n",
    "\n",
    "# USDをJPYに変換\n",
    "df_close_jpy = df_close.multiply(usd_jpy, axis=0)  # df_closeにusd_jpyを行単位で計算\n",
    "\n",
    "df_close_jpy.columns = [symbol.replace(\"-USD\", \"/JPY\") for symbol in df_close_jpy.columns]\n",
    "\n",
    "# 時間部分を削除し、日付だけ表示\n",
    "df_close_jpy.index = df_close_jpy.index.date\n",
    "\n",
    "print(df_close_jpy.head())\n",
    "print(df_close_jpy.tail())\n",
    "print(len(df_close_jpy))"
   ]
  },
  {
   "cell_type": "code",
   "execution_count": 242,
   "metadata": {},
   "outputs": [
    {
     "name": "stdout",
     "output_type": "stream",
     "text": [
      "             BTC/JPY   ETH/JPY   LTC/JPY   XRP/JPY   ADA/JPY\n",
      "2017-11-10 -0.078043 -0.071929 -0.082414 -0.055201 -0.158032\n",
      "2017-11-11 -0.039368  0.051555  0.051353  0.019115  0.011726\n",
      "2017-11-12 -0.064101 -0.021523 -0.052933 -0.062211 -0.126107\n",
      "2017-11-13  0.105446  0.031428  0.043378  0.033754  0.079317\n",
      "2017-11-14  0.010727  0.065090  0.019992  0.030459  0.015449\n"
     ]
    }
   ],
   "source": [
    "# 日次リターンを計算\n",
    "df_return = df_close_jpy.pct_change().dropna()\n",
    "\n",
    "# リターンの最初の5行を表示\n",
    "print(df_return.head())"
   ]
  },
  {
   "cell_type": "code",
   "execution_count": 243,
   "metadata": {},
   "outputs": [
    {
     "name": "stdout",
     "output_type": "stream",
     "text": [
      "          BTC/JPY   ETH/JPY   LTC/JPY   XRP/JPY   ADA/JPY\n",
      "BTC/JPY  0.001341  0.001309  0.001346  0.001133  0.001370\n",
      "ETH/JPY  0.001309  0.002103  0.001843  0.001656  0.001857\n",
      "LTC/JPY  0.001346  0.001843  0.002643  0.001829  0.001950\n",
      "XRP/JPY  0.001133  0.001656  0.001829  0.003797  0.002408\n",
      "ADA/JPY  0.001370  0.001857  0.001950  0.002408  0.004431\n"
     ]
    }
   ],
   "source": [
    "# リターンの共分散行列を計算\n",
    "cov_matrix = df_return.cov()\n",
    "\n",
    "# 共分散行列を表示\n",
    "print(cov_matrix)"
   ]
  },
  {
   "cell_type": "code",
   "execution_count": 244,
   "metadata": {},
   "outputs": [
    {
     "name": "stdout",
     "output_type": "stream",
     "text": [
      "ポートフォリオの期待リターン: 0.002273741440516255\n",
      "ポートフォリオのリスク: 0.043590290007335164\n"
     ]
    }
   ],
   "source": [
    "import numpy as np\n",
    "\n",
    "# 各資産の平均リターンを計算\n",
    "expected_returns = df_return.mean()\n",
    "\n",
    "# 資産数\n",
    "num_assets = len(symbols)\n",
    "\n",
    "# ランダムなウェイトを生成（合計が1になるように調整）\n",
    "weights = np.random.random(num_assets)\n",
    "weights /= np.sum(weights)\n",
    "\n",
    "# ポートフォリオの期待リターンを計算\n",
    "portfolio_return = np.sum(weights * expected_returns)\n",
    "\n",
    "# ポートフォリオのリスク（標準偏差）を計算\n",
    "portfolio_volatility = np.sqrt(np.dot(weights.T, np.dot(cov_matrix, weights)))\n",
    "\n",
    "print(\"ポートフォリオの期待リターン:\", portfolio_return)\n",
    "print(\"ポートフォリオのリスク:\", portfolio_volatility)"
   ]
  },
  {
   "cell_type": "code",
   "execution_count": 245,
   "metadata": {},
   "outputs": [
    {
     "name": "stdout",
     "output_type": "stream",
     "text": [
      "最適なポートフォリオのウェイト: [0. 0. 0. 0. 1.]\n",
      "各暗号資産への投資額: [    0.     0.     0.     0. 30000.]\n"
     ]
    }
   ],
   "source": [
    "import numpy as np\n",
    "from scipy.optimize import minimize\n",
    "\n",
    "# 無リスク利子率（例：1%）\n",
    "risk_free_rate = 0.01\n",
    "\n",
    "# シャープレシオを最大化する最適化関数\n",
    "def negative_sharpe_ratio(weights, expected_returns, cov_matrix, risk_free_rate):\n",
    "    # ポートフォリオの期待リターン\n",
    "    portfolio_return = np.sum(weights * expected_returns)\n",
    "    # ポートフォリオのリスク（標準偏差）\n",
    "    portfolio_volatility = np.sqrt(np.dot(weights.T, np.dot(cov_matrix, weights)))\n",
    "    # シャープレシオの計算（無リスク利子率を考慮）\n",
    "    sharpe_ratio = (portfolio_return - risk_free_rate) / portfolio_volatility\n",
    "    # シャープレシオを最大化するために、最小化問題にするため負の値を返す\n",
    "    return -sharpe_ratio\n",
    "\n",
    "# 最適化\n",
    "num_assets = len(symbols)\n",
    "initial_guess = np.ones(num_assets) / num_assets  # 初期のウェイト（等分割）\n",
    "bounds = [(0, 1) for _ in range(num_assets)]  # 各資産のウェイトは0から1の間\n",
    "constraints = {'type': 'eq', 'fun': lambda weights: np.sum(weights) - 1}  # ウェイトの合計が1になる制約\n",
    "\n",
    "# 最適化を実行\n",
    "result = minimize(negative_sharpe_ratio, initial_guess, args=(expected_returns, cov_matrix, risk_free_rate),\n",
    "                  method='SLSQP', bounds=bounds, constraints=constraints)\n",
    "\n",
    "# 最適なウェイトを取得\n",
    "optimal_weights = result.x\n",
    "\n",
    "# 投資額（3万円）の割り当て\n",
    "investment = 30000\n",
    "amount_invested = optimal_weights * investment\n",
    "\n",
    "# 結果表示\n",
    "print(\"最適なポートフォリオのウェイト:\", np.round(optimal_weights, 4))\n",
    "print(\"各暗号資産への投資額:\", np.round(amount_invested, 2))"
   ]
  },
  {
   "cell_type": "code",
   "execution_count": 246,
   "metadata": {},
   "outputs": [
    {
     "name": "stdout",
     "output_type": "stream",
     "text": [
      "\n",
      "最適なポートフォリオのウェイト:\n",
      "BTC-USD: 0.00%\n",
      "ETH-USD: 0.00%\n",
      "LTC-USD: 0.00%\n",
      "XRP-USD: 0.00%\n",
      "ADA-USD: 100.00%\n",
      "\n",
      "各暗号資産への投資額:\n",
      "BTC-USD: ¥0\n",
      "ETH-USD: ¥0\n",
      "LTC-USD: ¥0\n",
      "XRP-USD: ¥0\n",
      "ADA-USD: ¥30,000\n"
     ]
    }
   ],
   "source": [
    "import numpy as np\n",
    "\n",
    "# 数値表示をわかりやすくする（少数第2位まで表示）\n",
    "np.set_printoptions(precision=2, suppress=True)\n",
    "\n",
    "# 結果表示\n",
    "print(\"\\n最適なポートフォリオのウェイト:\")\n",
    "for symbol, weight in zip(symbols, optimal_weights):  # zip()symbol, weightの組み合わせをタプルで取り出す関数\n",
    "    print(f\"{symbol}: {weight*100:.2f}%\")\n",
    "\n",
    "print(\"\\n各暗号資産への投資額:\")\n",
    "for symbol, amount in zip(symbols, amount_invested):\n",
    "    print(f\"{symbol}: ¥{amount:,.0f}\")"
   ]
  }
 ],
 "metadata": {
  "kernelspec": {
   "display_name": "py_env",
   "language": "python",
   "name": "python3"
  },
  "language_info": {
   "codemirror_mode": {
    "name": "ipython",
    "version": 3
   },
   "file_extension": ".py",
   "mimetype": "text/x-python",
   "name": "python",
   "nbconvert_exporter": "python",
   "pygments_lexer": "ipython3",
   "version": "3.12.8"
  }
 },
 "nbformat": 4,
 "nbformat_minor": 2
}
