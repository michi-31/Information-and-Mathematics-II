{
 "cells": [
  {
   "cell_type": "markdown",
   "metadata": {},
   "source": [
    "# ベイズの定理を用いた推論の実例: COVID-19感染症の検査結果を用いた推論\n",
    "\n",
    "COVID-19 の検査結果が陽性だった場合に、本当に感染している確率を求めるために**ベイズの定理**を使う。"
   ]
  },
  {
   "cell_type": "markdown",
   "metadata": {},
   "source": [
    "## 仮定（検査の性能）\n",
    "あるPCR検査について、以下のような情報があるとする。\n",
    "\n",
    "- 感染者で正しく陽性と出る確率（感度）: 95% → P(陽性|感染) = 0.95\n",
    "- 非感染者で正しく陰性と出る確率（特異度）: 90% → P(陰性|非感染) = 0.90  \n",
    "  （つまり、非感染者が間違って陽性になる確率 P(陽性|非感染) = 0.10）\n",
    "- 全体の感染率（事前確率）: 1%（100人に1人が感染） → P(感染) = 0.01\n",
    "\n",
    "これを使って、「ある人が検査を受けて陽性だった場合、本当に感染している確率 P(感染|陽性)」を求める。"
   ]
  },
  {
   "cell_type": "code",
   "execution_count": 2,
   "metadata": {},
   "outputs": [
    {
     "name": "stdout",
     "output_type": "stream",
     "text": [
      "検査が陽性だった場合、実際に感染している確率: 8.76%\n"
     ]
    }
   ],
   "source": [
    "import numpy as np\n",
    "\n",
    "# 検査の性能と感染率\n",
    "P_positive_given_infected = 0.95  # 感度 (陽性を正しく検出する確率)\n",
    "P_negative_given_not_infected = 0.90  # 特異度 (陰性を正しく検出する確率)\n",
    "P_infected = 0.01  # 事前確率 (感染率)\n",
    "\n",
    "# 偽陽性率の計算\n",
    "P_positive_given_not_infected = 1 - P_negative_given_not_infected  # 0.10\n",
    "P_not_infected = 1 - P_infected  # 0.99\n",
    "\n",
    "# 陽性になる全体の確率\n",
    "P_positive = (P_positive_given_infected * P_infected) + (P_positive_given_not_infected * P_not_infected)\n",
    "\n",
    "# 陽性だった場合に実際に感染している確率 (ベイズの定理)\n",
    "P_infected_given_positive = (P_positive_given_infected * P_infected) / P_positive\n",
    "\n",
    "# 結果をわかりやすく表示\n",
    "print(f\"検査が陽性だった場合、実際に感染している確率: {P_infected_given_positive:.2%}\")"
   ]
  },
  {
   "cell_type": "markdown",
   "metadata": {},
   "source": [
    "### 解釈\n",
    "- 陽性結果が出た場合、その人が実際にCOVID-19に感染している確率は約8.73%。\n",
    "- これは、検査に感度と特異度が影響を与えるため。  \n",
    "  特に、非感染者が偽陽性で陽性と判定される可能性があるため、陽性結果を得ただけでは感染している確率が非常に高いわけではないことがわかる。"
   ]
  }
 ],
 "metadata": {
  "kernelspec": {
   "display_name": "py_env",
   "language": "python",
   "name": "python3"
  },
  "language_info": {
   "codemirror_mode": {
    "name": "ipython",
    "version": 3
   },
   "file_extension": ".py",
   "mimetype": "text/x-python",
   "name": "python",
   "nbconvert_exporter": "python",
   "pygments_lexer": "ipython3",
   "version": "3.12.8"
  }
 },
 "nbformat": 4,
 "nbformat_minor": 2
}
