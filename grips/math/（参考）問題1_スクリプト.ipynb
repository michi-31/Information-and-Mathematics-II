{
 "cells": [
  {
   "cell_type": "markdown",
   "metadata": {},
   "source": [
    "---\n",
    "title: \"レポート課題\"\n",
    "\n",
    "date: \"2025-02-04\"\n",
    "execute:\n",
    "  error: True\n",
    "  cache: true\n",
    "  echo: True\n",
    "format:\n",
    "  html:\n",
    "    slide-level: 2\n",
    "    toc: True\n",
    "---"
   ]
  },
  {
   "cell_type": "markdown",
   "metadata": {},
   "source": [
    "#  [問題1] \n",
    "\n",
    "- 業務や身の回りの適当な問題を線形計画問題や整数計画問題(一部の変数のみに整数条件がつく問題でもよい), 2次計画問題やネットワーク最適化問題に定式化してみよ．\n",
    "- もし，可能であれば，解いてみよ"
   ]
  },
  {
   "cell_type": "markdown",
   "metadata": {},
   "source": [
    "## データ収集\n",
    "- 日経225、S&P500、BTCに関する過去５年分の終値データ（1,223件）をYahoo! Financeから取得し、ドル/円の為替レートを用いて日本円に換算。"
   ]
  },
  {
   "cell_type": "code",
   "execution_count": 42,
   "metadata": {},
   "outputs": [
    {
     "name": "stdout",
     "output_type": "stream",
     "text": [
      "新しいデータの上位:                    ^N225      ^GSPC/JPY       BTC/JPY\n",
      "2025-01-29  39414.781250  939469.068054  1.613197e+07\n",
      "2025-01-30  39513.968750  942063.425661  1.625178e+07\n",
      "2025-01-31  39572.488281  930827.519041  1.578031e+07\n",
      "2025-02-03  38520.089844  923745.226934  1.578031e+07\n",
      "2025-02-04  38730.500000  929392.119758  1.530555e+07\n",
      "\n",
      "古いデータの上位:                    ^N225      ^GSPC/JPY       BTC/JPY\n",
      "2020-02-04  23084.589844  358157.853016  9.971627e+05\n",
      "2020-02-05  23319.560547  364971.805336  1.052160e+06\n",
      "2020-02-06  23873.589844  367413.498144  1.068468e+06\n",
      "2020-02-07  23827.980469  365941.616702  1.077240e+06\n",
      "2020-02-10  23685.980469  367539.906434  1.080728e+06\n",
      "\n",
      "データの件数: 1223\n"
     ]
    }
   ],
   "source": [
    "import yfinance as yf\n",
    "import pandas as pd\n",
    "import numpy as np\n",
    "from scipy.optimize import minimize\n",
    "\n",
    "# Yahoo Financeからデータを取得\n",
    "symbols = [\"^N225\", \"^GSPC\", \"BTC-USD\"]\n",
    "period = \"5y\"  # 5年分\n",
    "\n",
    "# 各ティッカーのデータを取得\n",
    "df_close = pd.DataFrame()\n",
    "for symbol in symbols:\n",
    "    ticker = yf.Ticker(symbol)\n",
    "    data = ticker.history(period=period)  \n",
    "    data.index = data.index.date\n",
    "    df_close[symbol] = data[\"Close\"]\n",
    "\n",
    "# 欠損値を前日のデータで補完\n",
    "df_close = df_close.ffill()\n",
    "\n",
    "# 為替レート（USD/JPY）の取得\n",
    "usd_jpy_ticker = yf.Ticker(\"JPY=X\")\n",
    "usd_jpy = usd_jpy_ticker.history(period=period)[\"Close\"]\n",
    "usd_jpy.index = usd_jpy.index.tz_localize(None)\n",
    "usd_jpy = usd_jpy.reindex(df_close.index, method=\"ffill\")\n",
    "\n",
    "# USDをJPYに変換\n",
    "df_close[\"^GSPC/JPY\"] = df_close[\"^GSPC\"] * usd_jpy\n",
    "df_close[\"BTC/JPY\"] = df_close[\"BTC-USD\"] * usd_jpy\n",
    "df_close = df_close.drop(columns=[\"^GSPC\", \"BTC-USD\"])\n",
    "\n",
    "# 結果を確認\n",
    "print(f\"新しいデータの上位: {df_close.tail()}\\n\")\n",
    "print(f\"古いデータの上位: {df_close.head()}\\n\")\n",
    "\n",
    "print(f\"データの件数: {len(df_close)}\")"
   ]
  },
  {
   "cell_type": "markdown",
   "metadata": {},
   "source": [
    "## リターンとリスクの評価"
   ]
  },
  {
   "cell_type": "code",
   "execution_count": 38,
   "metadata": {},
   "outputs": [
    {
     "name": "stdout",
     "output_type": "stream",
     "text": [
      "日次リターンの平均:\n",
      " ^N225        0.000517\n",
      "^GSPC/JPY    0.000889\n",
      "BTC/JPY      0.003137\n",
      "dtype: float64\n",
      "\n",
      "各資産の標準偏差:\n",
      " ^N225        0.013711\n",
      "^GSPC/JPY    0.014688\n",
      "BTC/JPY      0.041959\n",
      "dtype: float64\n",
      "\n",
      "共分散行列:\n",
      "               ^N225  ^GSPC/JPY   BTC/JPY\n",
      "^N225      0.000188   0.000059  0.000069\n",
      "^GSPC/JPY  0.000059   0.000216  0.000246\n",
      "BTC/JPY    0.000069   0.000246  0.001761\n",
      "\n"
     ]
    }
   ],
   "source": [
    "# 日次リターンを計算\n",
    "df_return = df_close.pct_change().dropna()\n",
    "\n",
    "# 各資産の平均リターン\n",
    "expected_returns = df_return.mean()\n",
    "\n",
    "# リターンの共分散行列\n",
    "cov_matrix = df_return.cov()\n",
    "\n",
    "# 各資産のリスク（標準偏差）を計算\n",
    "std_devs = np.sqrt(np.diag(cov_matrix))\n",
    "\n",
    "print(f\"日次リターンの平均:\\n {expected_returns}\\n\")\n",
    "\n",
    "print(f\"各資産の標準偏差:\\n {pd.Series(std_devs, index=df_return.columns)}\\n\")\n",
    "\n",
    "print(f\"共分散行列:\\n {cov_matrix}\\n\")"
   ]
  },
  {
   "cell_type": "markdown",
   "metadata": {},
   "source": [
    "## シャープレシオの最大化"
   ]
  },
  {
   "cell_type": "code",
   "execution_count": 43,
   "metadata": {},
   "outputs": [
    {
     "name": "stdout",
     "output_type": "stream",
     "text": [
      "最適なポートフォリオ:\n",
      "資産: ^N225\n",
      "- 最適ウェイト: 0.31\n",
      "- 投資額: 9321.07\n",
      "\n",
      "資産: ^GSPC/JPY\n",
      "- 最適ウェイト: 0.4\n",
      "- 投資額: 12147.43\n",
      "\n",
      "資産: BTC/JPY\n",
      "- 最適ウェイト: 0.28\n",
      "- 投資額: 8531.5\n",
      "\n"
     ]
    }
   ],
   "source": [
    "# シャープレシオを最大化する最適化関数\n",
    "def negative_sharpe_ratio(weights, expected_returns, cov_matrix):\n",
    "    portfolio_return = np.sum(weights * expected_returns)\n",
    "    portfolio_volatility = np.sqrt(np.dot(weights.T, np.dot(cov_matrix, weights)))\n",
    "    return -(portfolio_return / portfolio_volatility)\n",
    "\n",
    "# 最適化の実行\n",
    "num_assets = len(expected_returns)\n",
    "initial_guess = np.ones(num_assets) / num_assets  # 初期ウェイト（均等分割）\n",
    "bounds = [(0, 1) for _ in range(num_assets)]  # 各資産のウェイト範囲\n",
    "constraints = {'type': 'eq', 'fun': lambda weights: np.sum(weights) - 1}  # 合計ウェイトが1になる制約\n",
    "\n",
    "result = minimize(negative_sharpe_ratio, initial_guess, args=(expected_returns, cov_matrix), \n",
    "                  method='SLSQP', bounds=bounds, constraints=constraints)\n",
    "\n",
    "# 最適なウェイトを取得\n",
    "optimal_weights = result.x\n",
    "\n",
    "# 投資額（3万円）の分配\n",
    "investment = 30000\n",
    "amount_invested = optimal_weights * investment\n",
    "\n",
    "assets = expected_returns.index\n",
    "print(\"最適なポートフォリオ:\")\n",
    "for asset, weight, amount in zip(assets, optimal_weights, amount_invested):\n",
    "    print(f\"資産: {asset}\")\n",
    "    print(f\"- 最適ウェイト: {np.round(weight, 2)}\")\n",
    "    print(f\"- 投資額: {np.round(amount, 2)}\\n\")"
   ]
  }
 ],
 "metadata": {
  "kernelspec": {
   "display_name": "py_env",
   "language": "python",
   "name": "python3"
  },
  "language_info": {
   "codemirror_mode": {
    "name": "ipython",
    "version": 3
   },
   "file_extension": ".py",
   "mimetype": "text/x-python",
   "name": "python",
   "nbconvert_exporter": "python",
   "pygments_lexer": "ipython3",
   "version": "3.12.8"
  }
 },
 "nbformat": 4,
 "nbformat_minor": 2
}
